{
 "cells": [
  {
   "cell_type": "code",
   "execution_count": 32,
   "id": "ad97612d",
   "metadata": {},
   "outputs": [],
   "source": [
    "def gender_features(word):\n",
    "    return {'Last_letter':word[-1]}"
   ]
  },
  {
   "cell_type": "code",
   "execution_count": 41,
   "id": "149215d9",
   "metadata": {},
   "outputs": [
    {
     "data": {
      "text/plain": [
       "{'Last letter': 'n'}"
      ]
     },
     "execution_count": 41,
     "metadata": {},
     "output_type": "execute_result"
    }
   ],
   "source": [
    "gender_features(\"Winston\")"
   ]
  },
  {
   "cell_type": "code",
   "execution_count": 42,
   "id": "206dcd62",
   "metadata": {},
   "outputs": [],
   "source": [
    "from nltk.corpus import names"
   ]
  },
  {
   "cell_type": "code",
   "execution_count": 43,
   "id": "02ac96fd",
   "metadata": {},
   "outputs": [],
   "source": [
    "labeled_names = ([(name, 'male') for name in names.words('male.txt')]+[(name, 'female') for name in names.words('female.txt')])"
   ]
  },
  {
   "cell_type": "code",
   "execution_count": 44,
   "id": "55805bbd",
   "metadata": {},
   "outputs": [],
   "source": [
    "import nltk"
   ]
  },
  {
   "cell_type": "code",
   "execution_count": 8,
   "id": "fdbd71cb",
   "metadata": {},
   "outputs": [
    {
     "name": "stderr",
     "output_type": "stream",
     "text": [
      "[nltk_data] Downloading package names to\n",
      "[nltk_data]     C:\\Users\\Lokesh\\AppData\\Roaming\\nltk_data...\n",
      "[nltk_data]   Unzipping corpora\\names.zip.\n"
     ]
    },
    {
     "data": {
      "text/plain": [
       "True"
      ]
     },
     "execution_count": 8,
     "metadata": {},
     "output_type": "execute_result"
    }
   ],
   "source": [
    "nltk.download('names')"
   ]
  },
  {
   "cell_type": "code",
   "execution_count": 45,
   "id": "a7907d2e",
   "metadata": {},
   "outputs": [],
   "source": [
    "import random\n",
    "random.shuffle(labeled_names)"
   ]
  },
  {
   "cell_type": "code",
   "execution_count": 57,
   "id": "6328a000",
   "metadata": {},
   "outputs": [
    {
     "data": {
      "text/plain": [
       "[('Angie', 'female'),\n",
       " ('Vernen', 'male'),\n",
       " ('Tierney', 'female'),\n",
       " ('Catarina', 'female'),\n",
       " ('Ramesh', 'male'),\n",
       " ('Zola', 'female'),\n",
       " ('Eric', 'male'),\n",
       " ('Layne', 'female'),\n",
       " ('Titos', 'male'),\n",
       " ('Mario', 'male'),\n",
       " ('Boyd', 'male'),\n",
       " ('Eugen', 'male'),\n",
       " ('Marianne', 'female'),\n",
       " ('Lynea', 'female'),\n",
       " ('Leslie', 'male')]"
      ]
     },
     "execution_count": 57,
     "metadata": {},
     "output_type": "execute_result"
    }
   ],
   "source": [
    "labeled_names[:15]"
   ]
  },
  {
   "cell_type": "code",
   "execution_count": 47,
   "id": "90cf0f6c",
   "metadata": {},
   "outputs": [],
   "source": [
    "featuresets = [(gender_features(n),gender) for (n,gender) in labeled_names]"
   ]
  },
  {
   "cell_type": "code",
   "execution_count": 58,
   "id": "7ce799cc",
   "metadata": {},
   "outputs": [
    {
     "data": {
      "text/plain": [
       "[({'Last letter': 'e'}, 'female'),\n",
       " ({'Last letter': 'n'}, 'male'),\n",
       " ({'Last letter': 'y'}, 'female'),\n",
       " ({'Last letter': 'a'}, 'female'),\n",
       " ({'Last letter': 'h'}, 'male'),\n",
       " ({'Last letter': 'a'}, 'female'),\n",
       " ({'Last letter': 'c'}, 'male'),\n",
       " ({'Last letter': 'e'}, 'female'),\n",
       " ({'Last letter': 's'}, 'male'),\n",
       " ({'Last letter': 'o'}, 'male'),\n",
       " ({'Last letter': 'd'}, 'male'),\n",
       " ({'Last letter': 'n'}, 'male'),\n",
       " ({'Last letter': 'e'}, 'female'),\n",
       " ({'Last letter': 'a'}, 'female'),\n",
       " ({'Last letter': 'e'}, 'male')]"
      ]
     },
     "execution_count": 58,
     "metadata": {},
     "output_type": "execute_result"
    }
   ],
   "source": [
    "featuresets[:15]"
   ]
  },
  {
   "cell_type": "code",
   "execution_count": 14,
   "id": "e187381e",
   "metadata": {},
   "outputs": [
    {
     "data": {
      "text/plain": [
       "7944"
      ]
     },
     "execution_count": 14,
     "metadata": {},
     "output_type": "execute_result"
    }
   ],
   "source": [
    "len(featuresets)"
   ]
  },
  {
   "cell_type": "code",
   "execution_count": 49,
   "id": "50e5a1fd",
   "metadata": {},
   "outputs": [],
   "source": [
    "train_set = featuresets[500:]\n",
    "test_test = featuresets[:500]"
   ]
  },
  {
   "cell_type": "code",
   "execution_count": 56,
   "id": "dfae8e32",
   "metadata": {},
   "outputs": [
    {
     "data": {
      "text/plain": [
       "'male'"
      ]
     },
     "execution_count": 56,
     "metadata": {},
     "output_type": "execute_result"
    }
   ],
   "source": [
    "classifier = nltk.NaiveBayesClassifier.train(train_set)\n",
    "classifier.classify(gender_features('David'))"
   ]
  },
  {
   "cell_type": "code",
   "execution_count": 55,
   "id": "48f555be",
   "metadata": {},
   "outputs": [
    {
     "name": "stdout",
     "output_type": "stream",
     "text": [
      "0.766\n"
     ]
    }
   ],
   "source": [
    "print(nltk.classify.accuracy(classifier,test_test))"
   ]
  },
  {
   "cell_type": "code",
   "execution_count": 20,
   "id": "ab899318",
   "metadata": {},
   "outputs": [],
   "source": [
    "from nltk.tokenize import TweetTokenizer"
   ]
  },
  {
   "cell_type": "code",
   "execution_count": 22,
   "id": "8e29fb29",
   "metadata": {},
   "outputs": [],
   "source": [
    "text='The party was soooo fun #superfun'\n",
    "twttkn=TweetTokenizer()"
   ]
  },
  {
   "cell_type": "code",
   "execution_count": 23,
   "id": "73244c05",
   "metadata": {},
   "outputs": [
    {
     "data": {
      "text/plain": [
       "['The', 'party', 'was', 'soooo', 'fun', '#superfun']"
      ]
     },
     "execution_count": 23,
     "metadata": {},
     "output_type": "execute_result"
    }
   ],
   "source": [
    "twttkn.tokenize(text)"
   ]
  },
  {
   "cell_type": "code",
   "execution_count": null,
   "id": "9656a375",
   "metadata": {},
   "outputs": [],
   "source": []
  }
 ],
 "metadata": {
  "kernelspec": {
   "display_name": "Python 3 (ipykernel)",
   "language": "python",
   "name": "python3"
  },
  "language_info": {
   "codemirror_mode": {
    "name": "ipython",
    "version": 3
   },
   "file_extension": ".py",
   "mimetype": "text/x-python",
   "name": "python",
   "nbconvert_exporter": "python",
   "pygments_lexer": "ipython3",
   "version": "3.10.0"
  }
 },
 "nbformat": 4,
 "nbformat_minor": 5
}
