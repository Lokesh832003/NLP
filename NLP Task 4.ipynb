{
 "cells": [
  {
   "cell_type": "code",
   "execution_count": 4,
   "id": "be99a6a4",
   "metadata": {},
   "outputs": [],
   "source": [
    "from urllib import request"
   ]
  },
  {
   "cell_type": "code",
   "execution_count": 2,
   "id": "422f5108",
   "metadata": {},
   "outputs": [],
   "source": [
    "url=\"https://www.gutenberg.org/cache/epub/1524/pg1524.txt\""
   ]
  },
  {
   "cell_type": "code",
   "execution_count": 5,
   "id": "dee9de4e",
   "metadata": {},
   "outputs": [],
   "source": [
    "response = request.urlopen(url)"
   ]
  },
  {
   "cell_type": "code",
   "execution_count": 6,
   "id": "e2f2076f",
   "metadata": {},
   "outputs": [],
   "source": [
    "raw = response.read().decode('utf8')"
   ]
  },
  {
   "cell_type": "code",
   "execution_count": 7,
   "id": "f1df4b2f",
   "metadata": {},
   "outputs": [],
   "source": [
    "import nltk\n",
    "from nltk.tokenize import word_tokenize\n",
    "tokens = word_tokenize(raw)"
   ]
  },
  {
   "cell_type": "code",
   "execution_count": 8,
   "id": "0095af54",
   "metadata": {},
   "outputs": [
    {
     "name": "stdout",
     "output_type": "stream",
     "text": [
      "['\\ufeffThe', 'Project', 'Gutenberg', 'eBook', 'of', 'Hamlet', ',', 'by', 'William', 'Shakespeare', 'This', 'eBook', 'is', 'for', 'the', 'use', 'of', 'anyone', 'anywhere', 'in', 'the', 'United', 'States', 'and', 'most', 'other', 'parts', 'of', 'the', 'world', 'at', 'no', 'cost', 'and', 'with', 'almost', 'no', 'restrictions', 'whatsoever', '.', 'You', 'may', 'copy', 'it', ',', 'give', 'it', 'away', 'or', 're-use', 'it', 'under', 'the', 'terms', 'of', 'the', 'Project', 'Gutenberg', 'License', 'included', 'with', 'this', 'eBook', 'or', 'online', 'at', 'www.gutenberg.org', '.', 'If', 'you', 'are', 'not', 'located', 'in', 'the', 'United', 'States', ',', 'you', 'will', 'have', 'to', 'check', 'the', 'laws', 'of', 'the', 'country', 'where', 'you', 'are', 'located', 'before', 'using', 'this', 'eBook', '.', 'Title', ':', 'Hamlet', 'Author', ':', 'William', 'Shakespeare', 'Release', 'Date', ':', 'November', '1998', '[', 'eBook', '#', '1524', ']', '[', 'Most', 'recently', 'updated', ':', 'October', '17', ',', '2021', ']', 'Language', ':', 'English', 'Produced', 'by', ':', 'Dianne', 'Bean', '*', '*', '*', 'START', 'OF', 'THE', 'PROJECT', 'GUTENBERG', 'EBOOK', 'HAMLET', '*', '*', '*', 'THE', 'TRAGEDY', 'OF', 'HAMLET', ',', 'PRINCE', 'OF', 'DENMARK', 'by', 'William', 'Shakespeare', 'Contents', 'ACT', 'I', 'Scene', 'I.', 'Elsinore', '.', 'A', 'platform', 'before', 'the', 'Castle', '.', 'Scene', 'II', '.', 'Elsinore', '.', 'A', 'room', 'of', 'state', 'in', 'the', 'Castle', 'Scene', 'III', '.', 'A', 'room', 'in', 'Polonius', '’', 's', 'house', '.', 'Scene', 'IV', '.', 'The', 'platform', '.', 'Scene', 'V.']\n"
     ]
    }
   ],
   "source": [
    "print(tokens[:200])"
   ]
  },
  {
   "cell_type": "code",
   "execution_count": 9,
   "id": "13296104",
   "metadata": {},
   "outputs": [],
   "source": [
    "#BeautifulSoup\n",
    "#Preprocessing - Reverse Engineering to clean any HTML tags\n",
    "#PoS Tagging\n",
    "#anything"
   ]
  },
  {
   "cell_type": "code",
   "execution_count": 16,
   "id": "9c38c3aa",
   "metadata": {},
   "outputs": [
    {
     "data": {
      "text/plain": [
       "('happi', 'joyou', 'cacti')"
      ]
     },
     "execution_count": 16,
     "metadata": {},
     "output_type": "execute_result"
    }
   ],
   "source": [
    "import nltk\n",
    "from nltk.stem import PorterStemmer\n",
    "porter = PorterStemmer()\n",
    "a=porter.stem('happiness')\n",
    "b=porter.stem('joyous')\n",
    "c=porter.stem('cacti')\n",
    "a,b,c"
   ]
  },
  {
   "cell_type": "code",
   "execution_count": 18,
   "id": "241c96b5",
   "metadata": {},
   "outputs": [
    {
     "data": {
      "text/plain": [
       "('happy', 'joy', 'cact')"
      ]
     },
     "execution_count": 18,
     "metadata": {},
     "output_type": "execute_result"
    }
   ],
   "source": [
    "import nltk\n",
    "from nltk.stem import LancasterStemmer\n",
    "lancaster = LancasterStemmer()\n",
    "a=lancaster.stem('happiness')\n",
    "b=lancaster.stem('joyous')\n",
    "c=lancaster.stem('cacti')\n",
    "a,b,c"
   ]
  },
  {
   "cell_type": "code",
   "execution_count": 19,
   "id": "2f699200",
   "metadata": {},
   "outputs": [
    {
     "data": {
      "text/plain": [
       "'walk'"
      ]
     },
     "execution_count": 19,
     "metadata": {},
     "output_type": "execute_result"
    }
   ],
   "source": [
    "import nltk\n",
    "from nltk.stem import RegexpStemmer\n",
    "reg = RegexpStemmer('ing')\n",
    "reg.stem('walking')"
   ]
  },
  {
   "cell_type": "code",
   "execution_count": 21,
   "id": "e7f0a972",
   "metadata": {},
   "outputs": [
    {
     "data": {
      "text/plain": [
       "'baguet'"
      ]
     },
     "execution_count": 21,
     "metadata": {},
     "output_type": "execute_result"
    }
   ],
   "source": [
    "import nltk\n",
    "from nltk.stem import SnowballStemmer\n",
    "snow = SnowballStemmer('french')\n",
    "snow.stem('baguette')"
   ]
  },
  {
   "cell_type": "code",
   "execution_count": 43,
   "id": "3f3fd979",
   "metadata": {},
   "outputs": [],
   "source": [
    "import nltk\n",
    "from nltk.stem import LancasterStemmer\n",
    "lancaster = LancasterStemmer()\n",
    "text = \"HAMLET. Angels and ministers of grace defend us! Be thou a spirit of health or goblin damn’d, Bring with thee airs from heaven or blasts from hell, Be thy intents wicked or charitable, Thou com’st in such a questionable shape That I will speak to thee. I’ll call thee Hamlet, King, father, royal Dane. O, answer me! Let me not burst in ignorance; but tell Why thy canoniz’d bones, hearsed in death, Have burst their cerements; why the sepulchre, Wherein we saw thee quietly inurn’d, Hath op’d his ponderous and marble jaws To cast thee up again! What may this mean, That thou, dead corse, again in complete steel, Revisit’st thus the glimpses of the moon, Making night hideous, and we fools of nature So horridly to shake our disposition With thoughts beyond the reaches of our souls? Say, why is this? Wherefore? What should we do?\"\n",
    "res = \"\"\n",
    "for i in text:\n",
    "    a=lancaster.stem(i)\n",
    "    res+=a"
   ]
  },
  {
   "cell_type": "raw",
   "id": "5fe046ca",
   "metadata": {},
   "source": []
  },
  {
   "cell_type": "code",
   "execution_count": 39,
   "id": "a44ba28b",
   "metadata": {},
   "outputs": [],
   "source": [
    "stemmed = [lancaster.stem(token) for token in text.split(\" \")]"
   ]
  },
  {
   "cell_type": "code",
   "execution_count": 40,
   "id": "f4a33518",
   "metadata": {},
   "outputs": [
    {
     "name": "stdout",
     "output_type": "stream",
     "text": [
      "['hamlet.', 'angel', 'and', 'min', 'of', 'grac', 'defend', 'us!', 'be', 'thou', 'a', 'spirit', 'of', 'heal', 'or', 'goblin', 'damn’d,', 'bring', 'with', 'the', 'air', 'from', 'heav', 'or', 'blast', 'from', 'hell,', 'be', 'thy', 'int', 'wick', 'or', 'charitable,', 'thou', 'com’st', 'in', 'such', 'a', 'quest', 'shap', 'that', 'i', 'wil', 'speak', 'to', 'thee.', 'i’ll', 'cal', 'the', 'hamlet,', 'king,', 'father,', 'roy', 'dane.', 'o,', 'answ', 'me!', 'let', 'me', 'not', 'burst', 'in', 'ignorance;', 'but', 'tel', 'why', 'thy', 'canoniz’d', 'bones,', 'hears', 'in', 'death,', 'hav', 'burst', 'their', 'cerements;', 'why', 'the', 'sepulchre,', 'wherein', 'we', 'saw', 'the', 'quiet', 'inurn’d,', 'hath', 'op’d', 'his', 'pond', 'and', 'marbl', 'jaw', 'to', 'cast', 'the', 'up', 'again!', 'what', 'may', 'thi']\n"
     ]
    }
   ],
   "source": [
    "print(stemmed[:100])"
   ]
  },
  {
   "cell_type": "code",
   "execution_count": 44,
   "id": "6da4302b",
   "metadata": {},
   "outputs": [
    {
     "data": {
      "text/plain": [
       "'hamlet. angels and ministers of grace defend us! be thou a spirit of health or goblin damn’d, bring with thee airs from heaven or blasts from hell, be thy intents wicked or charitable, thou com’st in such a questionable shape that i will speak to thee. i’ll call thee hamlet, king, father, royal dane. o, answer me! let me not burst in ignorance; but tell why thy canoniz’d bones, hearsed in death, have burst their cerements; why the sepulchre, wherein we saw thee quietly inurn’d, hath op’d his ponderous and marble jaws to cast thee up again! what may this mean, that thou, dead corse, again in complete steel, revisit’st thus the glimpses of the moon, making night hideous, and we fools of nature'"
      ]
     },
     "execution_count": 44,
     "metadata": {},
     "output_type": "execute_result"
    }
   ],
   "source": [
    "res[:700]"
   ]
  },
  {
   "cell_type": "code",
   "execution_count": 58,
   "id": "8f991521",
   "metadata": {},
   "outputs": [
    {
     "name": "stdout",
     "output_type": "stream",
     "text": [
      "cactus\n",
      "be\n"
     ]
    }
   ],
   "source": [
    "from nltk.stem import WordNetLemmatizer\n",
    "lemma = WordNetLemmatizer()\n",
    "print(lemma.lemmatize(\"cacti\"))\n",
    "print(lemma.lemmatize(\"am\", pos='v'))"
   ]
  },
  {
   "cell_type": "code",
   "execution_count": 57,
   "id": "1210f96d",
   "metadata": {},
   "outputs": [
    {
     "name": "stderr",
     "output_type": "stream",
     "text": [
      "[nltk_data] Downloading package wordnet to\n",
      "[nltk_data]     C:\\Users\\Lokesh\\AppData\\Roaming\\nltk_data...\n",
      "[nltk_data]   Package wordnet is already up-to-date!\n",
      "[nltk_data] Downloading package omw-1.4 to\n",
      "[nltk_data]     C:\\Users\\Lokesh\\AppData\\Roaming\\nltk_data...\n"
     ]
    },
    {
     "data": {
      "text/plain": [
       "True"
      ]
     },
     "execution_count": 57,
     "metadata": {},
     "output_type": "execute_result"
    }
   ],
   "source": [
    "import nltk\n",
    "nltk.download('wordnet')\n",
    "nltk.download('omw-1.4')"
   ]
  },
  {
   "cell_type": "code",
   "execution_count": null,
   "id": "8fc8c9cc",
   "metadata": {},
   "outputs": [],
   "source": []
  }
 ],
 "metadata": {
  "kernelspec": {
   "display_name": "Python 3 (ipykernel)",
   "language": "python",
   "name": "python3"
  },
  "language_info": {
   "codemirror_mode": {
    "name": "ipython",
    "version": 3
   },
   "file_extension": ".py",
   "mimetype": "text/x-python",
   "name": "python",
   "nbconvert_exporter": "python",
   "pygments_lexer": "ipython3",
   "version": "3.10.0"
  }
 },
 "nbformat": 4,
 "nbformat_minor": 5
}
