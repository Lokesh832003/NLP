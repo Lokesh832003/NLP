{
 "cells": [
  {
   "cell_type": "code",
   "execution_count": 2,
   "id": "cea60bfc",
   "metadata": {},
   "outputs": [],
   "source": [
    "import nltk"
   ]
  },
  {
   "cell_type": "code",
   "execution_count": 3,
   "id": "47363846",
   "metadata": {},
   "outputs": [],
   "source": [
    "sent = [(\"the\",\"DT\"),(\"little\",\"JJ\"),(\"white\",\"JJ\"),(\"dog\",\"NN\"),(\"licked\",\"VBD\"),(\"the\",\"DT\"),(\"cat\",\"NN\")]\n",
    "\n",
    "grammar = \"NP: {(<DT>?<JJ>*<NN>)}\""
   ]
  },
  {
   "cell_type": "code",
   "execution_count": 4,
   "id": "e28ccf60",
   "metadata": {},
   "outputs": [],
   "source": [
    "cp = nltk.RegexpParser(grammar)"
   ]
  },
  {
   "cell_type": "code",
   "execution_count": 5,
   "id": "af40cf30",
   "metadata": {},
   "outputs": [],
   "source": [
    "result = cp.parse(sent)"
   ]
  },
  {
   "cell_type": "code",
   "execution_count": 6,
   "id": "f9e48a96",
   "metadata": {},
   "outputs": [
    {
     "name": "stdout",
     "output_type": "stream",
     "text": [
      "(S\n",
      "  (NP the/DT little/JJ white/JJ dog/NN)\n",
      "  licked/VBD\n",
      "  (NP the/DT cat/NN))\n"
     ]
    }
   ],
   "source": [
    "print(result)"
   ]
  },
  {
   "cell_type": "code",
   "execution_count": null,
   "id": "1a7359a6",
   "metadata": {},
   "outputs": [],
   "source": [
    "result.draw()"
   ]
  },
  {
   "cell_type": "code",
   "execution_count": null,
   "id": "5d1a474d",
   "metadata": {},
   "outputs": [],
   "source": []
  }
 ],
 "metadata": {
  "kernelspec": {
   "display_name": "Python 3 (ipykernel)",
   "language": "python",
   "name": "python3"
  },
  "language_info": {
   "codemirror_mode": {
    "name": "ipython",
    "version": 3
   },
   "file_extension": ".py",
   "mimetype": "text/x-python",
   "name": "python",
   "nbconvert_exporter": "python",
   "pygments_lexer": "ipython3",
   "version": "3.9.13"
  }
 },
 "nbformat": 4,
 "nbformat_minor": 5
}
